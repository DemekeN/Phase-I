{
 "cells": [
  {
   "cell_type": "markdown",
   "metadata": {},
   "source": [
    "# For a given sentence change the letter to lower case if the index of the letter is odd and upper case if even "
   ]
  },
  {
   "cell_type": "code",
   "execution_count": 1,
   "metadata": {},
   "outputs": [],
   "source": [
    "def myfunc1(x):\n",
    "    y = []\n",
    "    for i in range (len(x)):\n",
    "        if i%2==0:\n",
    "            y.append(x[i].lower())\n",
    "        else:\n",
    "            y.append(x[i].upper())\n",
    "    return ''.join(y)"
   ]
  },
  {
   "cell_type": "code",
   "execution_count": 2,
   "metadata": {},
   "outputs": [
    {
     "data": {
      "text/plain": [
       "'tHe qUiCk bRoWn fOx jUmPeD OvEr tHe lAzY DoG'"
      ]
     },
     "execution_count": 2,
     "metadata": {},
     "output_type": "execute_result"
    }
   ],
   "source": [
    "myfunc1('The quick brown fox jumped over the lazy dog')"
   ]
  },
  {
   "cell_type": "markdown",
   "metadata": {},
   "source": [
    "# Given two numbers: return the smallest if both are even or return the maximum if not "
   ]
  },
  {
   "cell_type": "code",
   "execution_count": 3,
   "metadata": {},
   "outputs": [],
   "source": [
    "def myfun2(a,b):\n",
    "    if a%2==0 and b%2==0:\n",
    "        result = min(a,b)\n",
    "    else:\n",
    "        result = max(a,b)\n",
    "    return result"
   ]
  },
  {
   "cell_type": "code",
   "execution_count": 4,
   "metadata": {},
   "outputs": [
    {
     "data": {
      "text/plain": [
       "67"
      ]
     },
     "execution_count": 4,
     "metadata": {},
     "output_type": "execute_result"
    }
   ],
   "source": [
    "myfun2(21,67)"
   ]
  },
  {
   "cell_type": "markdown",
   "metadata": {},
   "source": [
    "# Write a function to return the sentence in reverse order"
   ]
  },
  {
   "cell_type": "code",
   "execution_count": 5,
   "metadata": {},
   "outputs": [],
   "source": [
    "def myfunc3(sentence):\n",
    "    word_list = sentence.split()\n",
    "    reversed_order =word_list[::-1]\n",
    "    return reversed_order \n",
    "  "
   ]
  },
  {
   "cell_type": "code",
   "execution_count": 6,
   "metadata": {},
   "outputs": [
    {
     "data": {
      "text/plain": [
       "['time', 'the', 'all', 'good', 'is', 'God']"
      ]
     },
     "execution_count": 6,
     "metadata": {},
     "output_type": "execute_result"
    }
   ],
   "source": [
    "myfunc3('God is good all the time')"
   ]
  },
  {
   "cell_type": "code",
   "execution_count": 7,
   "metadata": {},
   "outputs": [],
   "source": [
    "def myfunc3(sentence):\n",
    "    word_list = sentence.split()\n",
    "    reversed_order =word_list[::-1]\n",
    "    return ' '.join(reversed_order) "
   ]
  },
  {
   "cell_type": "code",
   "execution_count": 8,
   "metadata": {},
   "outputs": [
    {
     "data": {
      "text/plain": [
       "'time the all good is God'"
      ]
     },
     "execution_count": 8,
     "metadata": {},
     "output_type": "execute_result"
    }
   ],
   "source": [
    "myfunc3('God is good all the time')"
   ]
  },
  {
   "cell_type": "markdown",
   "metadata": {},
   "source": [
    "# Given a list of int return True if the array contains 3 next to 3 somewhere "
   ]
  },
  {
   "cell_type": "code",
   "execution_count": 9,
   "metadata": {},
   "outputs": [],
   "source": [
    "def myfunc4(nums):\n",
    "    for j in range(0,len(nums)-1):\n",
    "        if nums[j]== 3 and nums[j+1]==3:\n",
    "            return True\n",
    "    return False\n",
    "       "
   ]
  },
  {
   "cell_type": "code",
   "execution_count": 10,
   "metadata": {},
   "outputs": [
    {
     "data": {
      "text/plain": [
       "True"
      ]
     },
     "execution_count": 10,
     "metadata": {},
     "output_type": "execute_result"
    }
   ],
   "source": [
    "myfunc4([1,2,4,3,3])"
   ]
  },
  {
   "cell_type": "code",
   "execution_count": 11,
   "metadata": {},
   "outputs": [],
   "source": [
    "def myfunc5(nums):\n",
    "    for i in range(0,len(nums)-1):\n",
    "        if nums[i:i+2]==[3,3]:\n",
    "            return True\n",
    "    return False"
   ]
  },
  {
   "cell_type": "code",
   "execution_count": 12,
   "metadata": {},
   "outputs": [
    {
     "data": {
      "text/plain": [
       "True"
      ]
     },
     "execution_count": 12,
     "metadata": {},
     "output_type": "execute_result"
    }
   ],
   "source": [
    "myfunc4([1,3,4,3,3])"
   ]
  },
  {
   "cell_type": "code",
   "execution_count": 13,
   "metadata": {},
   "outputs": [],
   "source": [
    "def myfunc6(nums):\n",
    "    y =[]\n",
    "    for i in range(0,len(nums)-1):\n",
    "        mylist = nums[i:i+2]\n",
    "        y.append(mylist)\n",
    "    return y"
   ]
  },
  {
   "cell_type": "code",
   "execution_count": 14,
   "metadata": {},
   "outputs": [
    {
     "data": {
      "text/plain": [
       "[[1, 3], [3, 4], [4, 3], [3, 3]]"
      ]
     },
     "execution_count": 14,
     "metadata": {},
     "output_type": "execute_result"
    }
   ],
   "source": [
    "myfunc6([1,3,4,3,3])\n"
   ]
  },
  {
   "cell_type": "code",
   "execution_count": null,
   "metadata": {},
   "outputs": [],
   "source": []
  },
  {
   "cell_type": "markdown",
   "metadata": {},
   "source": [
    " Return the sum of the numbers in the array, except ignore sections of numbers starting with a 7 and extending to the next 9 (every 7 will be followed by at least one 9). Return 0 for no numbers.\n",
    "([1, 3, 5]) --> 9\n",
    "([4, 5, 6, 7, 8, 9]) --> 15\n",
    "([2, 1, 7, 9, 11]) --> 14"
   ]
  },
  {
   "cell_type": "code",
   "execution_count": 15,
   "metadata": {},
   "outputs": [],
   "source": [
    "def myfunc7(arr):\n",
    "    total = 0\n",
    "    add= True\n",
    "    for num in arr:\n",
    "        while add:\n",
    "            if num != 7:\n",
    "                total += num\n",
    "                break\n",
    "            else:\n",
    "                add = False\n",
    "        while not add:\n",
    "            if num != 9:\n",
    "                break\n",
    "            else:\n",
    "                add = True\n",
    "                break\n",
    "    return total\n",
    "                \n",
    "        \n",
    "    "
   ]
  },
  {
   "cell_type": "code",
   "execution_count": 16,
   "metadata": {},
   "outputs": [
    {
     "data": {
      "text/plain": [
       "26"
      ]
     },
     "execution_count": 16,
     "metadata": {},
     "output_type": "execute_result"
    }
   ],
   "source": [
    "myfunc7([2,3,4,6,3,8])"
   ]
  },
  {
   "cell_type": "markdown",
   "metadata": {},
   "source": [
    "# The ff function selects even numbers from a list of numbers"
   ]
  },
  {
   "cell_type": "code",
   "execution_count": 17,
   "metadata": {},
   "outputs": [],
   "source": [
    "def myfunc(*args):\n",
    "    y=[]\n",
    "    for item in args:\n",
    "        if item %2==0:\n",
    "            y.append(item)\n",
    "    return y"
   ]
  },
  {
   "cell_type": "code",
   "execution_count": 18,
   "metadata": {},
   "outputs": [
    {
     "data": {
      "text/plain": [
       "[2, 6, 8]"
      ]
     },
     "execution_count": 18,
     "metadata": {},
     "output_type": "execute_result"
    }
   ],
   "source": [
    "myfunc(2,3,5,6,8)"
   ]
  },
  {
   "cell_type": "markdown",
   "metadata": {},
   "source": [
    "The following function takes in a list of integers and returns True if it contains 007 in order. SPY-game\n",
    "\n",
    " spy_game([1,2,4,0,0,7,5]) --> True\n",
    " spy_game([1,0,2,4,0,5,7]) --> True\n",
    " spy_game([1,7,2,0,4,5,0]) --> False"
   ]
  },
  {
   "cell_type": "code",
   "execution_count": 19,
   "metadata": {},
   "outputs": [],
   "source": [
    "def myfunc8(no):\n",
    "    wented=[0,0,7,'x']\n",
    "    for n in no:\n",
    "        if n == wented[0]:\n",
    "            wented.pop(0)\n",
    "    return len(wented)==1\n",
    "            "
   ]
  },
  {
   "cell_type": "code",
   "execution_count": 20,
   "metadata": {},
   "outputs": [
    {
     "data": {
      "text/plain": [
       "True"
      ]
     },
     "execution_count": 20,
     "metadata": {},
     "output_type": "execute_result"
    }
   ],
   "source": [
    "myfunc8([1,2,4,0,0,7,5])"
   ]
  },
  {
   "cell_type": "code",
   "execution_count": null,
   "metadata": {},
   "outputs": [],
   "source": []
  },
  {
   "cell_type": "markdown",
   "metadata": {},
   "source": [
    "# Prime Numbers "
   ]
  },
  {
   "cell_type": "code",
   "execution_count": null,
   "metadata": {},
   "outputs": [],
   "source": [
    "number = int(input(\"Enter the last number\"))\n",
    "primes = []\n",
    "for number in range(2,number+1):\n",
    "    prime = True\n",
    "    for i in primes:\n",
    "        if not (number % i):\n",
    "            print(number, ' is not a prime')\n",
    "            prime = False\n",
    "            break\n",
    "    if prime == True:\n",
    "        print(number, ' is a prime')\n",
    "        primes.append(number)"
   ]
  },
  {
   "cell_type": "code",
   "execution_count": null,
   "metadata": {},
   "outputs": [],
   "source": []
  },
  {
   "cell_type": "markdown",
   "metadata": {},
   "source": [
    "# print big"
   ]
  },
  {
   "cell_type": "code",
   "execution_count": 21,
   "metadata": {},
   "outputs": [],
   "source": [
    "def picture(shape):\n",
    "    patterns ={0:'    +', 1:'   *   ', 2: '  **  ', 3: '  ***', 4: ' **** ', 5: '* * * * *',6:'******', 7:'*******',8:'********'}\n",
    "    pict = {'Triangle':[1,2,4,6], 'Square':[0,5,5,5,5,5],'Rectangle':[0,5,5,5,5,5,5,5,5,5,5,5,5,5]}\n",
    "    for pattern in pict[shape]:\n",
    "        print (patterns[pattern])\n",
    "    "
   ]
  },
  {
   "cell_type": "code",
   "execution_count": 22,
   "metadata": {},
   "outputs": [
    {
     "name": "stdout",
     "output_type": "stream",
     "text": [
      "   *   \n",
      "  **  \n",
      " **** \n",
      "******\n",
      "    +\n",
      "* * * * *\n",
      "* * * * *\n",
      "* * * * *\n",
      "* * * * *\n",
      "* * * * *\n",
      "    +\n",
      "* * * * *\n",
      "* * * * *\n",
      "* * * * *\n",
      "* * * * *\n",
      "* * * * *\n",
      "* * * * *\n",
      "* * * * *\n",
      "* * * * *\n",
      "* * * * *\n",
      "* * * * *\n",
      "* * * * *\n",
      "* * * * *\n",
      "* * * * *\n"
     ]
    },
    {
     "data": {
      "text/plain": [
       "(None, None, None)"
      ]
     },
     "execution_count": 22,
     "metadata": {},
     "output_type": "execute_result"
    }
   ],
   "source": [
    "picture('Triangle'), picture('Square'), picture('Rectangle')"
   ]
  },
  {
   "cell_type": "markdown",
   "metadata": {},
   "source": [
    "# Count the number of upper case and lower case letters in the given sentence"
   ]
  },
  {
   "cell_type": "code",
   "execution_count": 23,
   "metadata": {},
   "outputs": [
    {
     "name": "stdout",
     "output_type": "stream",
     "text": [
      "Please enter your sentence : The Quck brow fox jumped over the lazy Dog'\n",
      "The number of upper case are: 3\n",
      "The number of lower case are: 31\n"
     ]
    }
   ],
   "source": [
    "s = input('Please enter your sentence : ')\n",
    "counts = {'upper':0, 'lower': 0}\n",
    "#words= sentence.split()\n",
    "for l in s:\n",
    "    if l.isupper():\n",
    "        counts['upper']+= 1\n",
    "    elif l.islower():\n",
    "        counts['lower']+= 1\n",
    "    else:\n",
    "        pass\n",
    "print('The number of upper case are:',counts['upper'])\n",
    "print('The number of lower case are:' , counts['lower'])\n",
    "        "
   ]
  }
 ],
 "metadata": {
  "kernelspec": {
   "display_name": "Python 3",
   "language": "python",
   "name": "python3"
  },
  "language_info": {
   "codemirror_mode": {
    "name": "ipython",
    "version": 3
   },
   "file_extension": ".py",
   "mimetype": "text/x-python",
   "name": "python",
   "nbconvert_exporter": "python",
   "pygments_lexer": "ipython3",
   "version": "3.6.8"
  }
 },
 "nbformat": 4,
 "nbformat_minor": 2
}
